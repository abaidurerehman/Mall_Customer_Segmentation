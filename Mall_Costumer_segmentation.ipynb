{
 "cells": [
  {
   "cell_type": "code",
   "execution_count": null,
   "id": "792818db-bbef-41b2-a5b2-3f3a7056ccaa",
   "metadata": {},
   "outputs": [],
   "source": [
    "!pip install numpy pandas matplotlib seaborn scikit-learn\n"
   ]
  },
  {
   "cell_type": "code",
   "execution_count": null,
   "id": "2c1b2a58-1161-49a0-8eb8-52cffe70e855",
   "metadata": {},
   "outputs": [],
   "source": [
    "import os\n",
    "import numpy as np\n",
    "import pandas as pd\n",
    "import matplotlib.pyplot as plt\n",
    "import seaborn as sns\n",
    "from sklearn.cluster import KMeans\n",
    "from sklearn.preprocessing import StandardScaler\n",
    "from sklearn.decomposition import PCA\n"
   ]
  },
  {
   "cell_type": "code",
   "execution_count": null,
   "id": "9cd6dda0-4da0-41ee-805d-3df145408613",
   "metadata": {},
   "outputs": [],
   "source": [
    "os.environ[\"OMP_NUM_THREADS\"] = \"1\"\n"
   ]
  },
  {
   "cell_type": "code",
   "execution_count": null,
   "id": "f3f0c379-f65c-4766-aef0-b99c8064e4cc",
   "metadata": {},
   "outputs": [],
   "source": [
    "# Load dataset\n",
    "df = pd.read_csv(\"Mall_Customers.csv\")\n",
    "\n",
    "# Display first few rows\n",
    "df.head()\n"
   ]
  },
  {
   "cell_type": "code",
   "execution_count": null,
   "id": "e0506cb7-761c-4b93-a3a1-280ea845d563",
   "metadata": {},
   "outputs": [],
   "source": [
    "print(df.info())  # Check data types and missing values\n",
    "print(df.isnull().sum())  # Check missing values count\n"
   ]
  },
  {
   "cell_type": "code",
   "execution_count": null,
   "id": "1ac2a1fd-2705-4257-8778-ad40d7c10d19",
   "metadata": {},
   "outputs": [],
   "source": [
    "plt.figure(figsize=(6,4))\n",
    "sns.countplot(x=\"Gender\", data=df, palette=\"coolwarm\")\n",
    "plt.title(\"Gender Distribution\")\n",
    "plt.show()\n"
   ]
  },
  {
   "cell_type": "code",
   "execution_count": null,
   "id": "145b6919-0222-4698-b4a2-cb01345d3b71",
   "metadata": {},
   "outputs": [],
   "source": [
    "plt.figure(figsize=(8,6))\n",
    "sns.scatterplot(x=df[\"Annual Income (k$)\"], y=df[\"Spending Score (1-100)\"], hue=df[\"Gender\"], palette=\"coolwarm\")\n",
    "plt.title(\"Spending Score vs Annual Income\")\n",
    "plt.show()\n"
   ]
  },
  {
   "cell_type": "code",
   "execution_count": null,
   "id": "32be799d-639f-4660-ac2f-febbe9171a56",
   "metadata": {},
   "outputs": [],
   "source": [
    "X = df[[\"Age\", \"Annual Income (k$)\", \"Spending Score (1-100)\"]]\n"
   ]
  },
  {
   "cell_type": "code",
   "execution_count": null,
   "id": "18d2cb95-be2a-4337-a5b3-8caf89349d11",
   "metadata": {},
   "outputs": [],
   "source": [
    "scaler = StandardScaler()\n",
    "X_scaled = scaler.fit_transform(X)\n"
   ]
  },
  {
   "cell_type": "code",
   "execution_count": null,
   "id": "789239d3-9210-498a-b10e-d63467fa6686",
   "metadata": {},
   "outputs": [],
   "source": [
    "inertia = []\n",
    "K_range = range(1, 11)\n",
    "\n",
    "for k in K_range:\n",
    "    kmeans = KMeans(n_clusters=k, init='k-means++', random_state=42, n_init='auto')\n",
    "    kmeans.fit(X_scaled)\n",
    "    inertia.append(kmeans.inertia_)\n",
    "\n",
    "# Plot Elbow Curve\n",
    "plt.figure(figsize=(8,6))\n",
    "plt.plot(K_range, inertia, marker=\"o\", linestyle=\"--\")\n",
    "plt.xlabel(\"Number of Clusters\")\n",
    "plt.ylabel(\"Inertia\")\n",
    "plt.title(\"Elbow Method to Determine Optimal K\")\n",
    "plt.show()\n"
   ]
  },
  {
   "cell_type": "code",
   "execution_count": null,
   "id": "370450e2-da9d-4616-8c24-ddb8e89a4856",
   "metadata": {},
   "outputs": [],
   "source": [
    "# Set number of clusters based on elbow method (example: K=5)\n",
    "optimal_k = 5\n",
    "\n",
    "# Apply K-Means with fixes\n",
    "kmeans = KMeans(n_clusters=optimal_k, init='k-means++', random_state=42, n_init='auto')\n",
    "df[\"Cluster\"] = kmeans.fit_predict(X_scaled)\n",
    "\n",
    "# Show cluster counts\n",
    "df[\"Cluster\"].value_counts()\n"
   ]
  },
  {
   "cell_type": "code",
   "execution_count": null,
   "id": "18c6c8be-3a67-4538-ba4a-40eed6ceb4b6",
   "metadata": {},
   "outputs": [],
   "source": [
    "plt.figure(figsize=(10,6))\n",
    "sns.scatterplot(x=df[\"Annual Income (k$)\"], y=df[\"Spending Score (1-100)\"], hue=df[\"Cluster\"], palette=\"viridis\", s=100)\n",
    "plt.title(\"Customer Segments Based on Income and Spending Score\")\n",
    "plt.xlabel(\"Annual Income (k$)\")\n",
    "plt.ylabel(\"Spending Score (1-100)\")\n",
    "plt.show()\n"
   ]
  },
  {
   "cell_type": "code",
   "execution_count": null,
   "id": "b7661902-3686-4c97-9687-a29959dda339",
   "metadata": {},
   "outputs": [],
   "source": [
    "from mpl_toolkits.mplot3d import Axes3D\n",
    "\n",
    "pca = PCA(n_components=3)\n",
    "X_pca = pca.fit_transform(X_scaled)\n",
    "\n",
    "fig = plt.figure(figsize=(8,6))\n",
    "ax = fig.add_subplot(111, projection=\"3d\")\n",
    "ax.scatter(X_pca[:, 0], X_pca[:, 1], X_pca[:, 2], c=df[\"Cluster\"], cmap=\"viridis\", s=50)\n",
    "ax.set_title(\"3D View of Customer Segments\")\n",
    "ax.set_xlabel(\"PCA 1\")\n",
    "ax.set_ylabel(\"PCA 2\")\n",
    "ax.set_zlabel(\"PCA 3\")\n",
    "plt.show()\n"
   ]
  },
  {
   "cell_type": "code",
   "execution_count": null,
   "id": "aa4303d3-aa2c-4f6c-bf53-a06584f94791",
   "metadata": {},
   "outputs": [],
   "source": [
    "# Import required libraries for Hierarchical Clustering\n",
    "from scipy.cluster.hierarchy import dendrogram, linkage\n",
    "from sklearn.cluster import AgglomerativeClustering\n",
    "\n",
    "# Create Dendrogram to find optimal clusters\n",
    "plt.figure(figsize=(10, 6))\n",
    "dendrogram(linkage(X_scaled, method=\"ward\"))\n",
    "plt.title(\"Dendrogram for Hierarchical Clustering\")\n",
    "plt.xlabel(\"Customers\")\n",
    "plt.ylabel(\"Distance\")\n",
    "plt.show()\n",
    "\n",
    "# Apply Hierarchical Clustering\n",
    "h_cluster = AgglomerativeClustering(n_clusters=5, linkage=\"ward\")\n",
    "df[\"H_Cluster\"] = h_cluster.fit_predict(X_scaled)\n",
    "\n",
    "# Visualize Hierarchical Clusters\n",
    "plt.figure(figsize=(10,6))\n",
    "sns.scatterplot(x=df[\"Annual Income (k$)\"], y=df[\"Spending Score (1-100)\"], hue=df[\"H_Cluster\"], palette=\"viridis\", s=100)\n",
    "plt.title(\"Hierarchical Customer Segments\")\n",
    "plt.xlabel(\"Annual Income (k$)\")\n",
    "plt.ylabel(\"Spending Score (1-100)\")\n",
    "plt.show()\n"
   ]
  },
  {
   "cell_type": "code",
   "execution_count": null,
   "id": "55e579b0-6284-4e8e-b3da-1cb2e7df234c",
   "metadata": {},
   "outputs": [],
   "source": [
    "df.groupby(\"Cluster\").mean(numeric_only=True)\n"
   ]
  },
  {
   "cell_type": "code",
   "execution_count": null,
   "id": "9f7975a0-1fff-47ac-b374-10640e53583a",
   "metadata": {},
   "outputs": [],
   "source": [
    "df.to_csv(\"Mall_Customers_Clustered.csv\", index=False)\n"
   ]
  },
  {
   "cell_type": "code",
   "execution_count": null,
   "id": "ee383f54-b696-4d92-94c3-4240a337988e",
   "metadata": {},
   "outputs": [],
   "source": [
    "pip install streamlit pandas scikit-learn joblib\n"
   ]
  },
  {
   "cell_type": "code",
   "execution_count": null,
   "id": "2e73d4e6-bbf3-4480-9bdc-58dae21ff028",
   "metadata": {},
   "outputs": [],
   "source": [
    "%%writefile app.py\n",
    "\n",
    "import streamlit as st\n",
    "import pandas as pd\n",
    "import joblib\n",
    "\n",
    "# Load trained model\n",
    "model = joblib.load(\"customer_segmentation_model.pkl\")\n",
    "\n",
    "st.title(\"Customer Segmentation Predictor\")\n",
    "\n",
    "# Input fields\n",
    "income = st.number_input(\"Annual Income (k$)\", min_value=0, max_value=200, value=50)\n",
    "spending = st.number_input(\"Spending Score (1-100)\", min_value=0, max_value=100, value=50)\n",
    "\n",
    "# Prediction\n",
    "if st.button(\"Predict Segment\"):\n",
    "    df = pd.DataFrame([[income, spending]], columns=[\"Annual Income (k$)\", \"Spending Score (1-100)\"])\n",
    "    cluster = model.predict(df)\n",
    "    st.success(f\"Predicted Customer Segment: {cluster[0]}\")\n"
   ]
  },
  {
   "cell_type": "code",
   "execution_count": null,
   "id": "744b2fa4-2721-4b77-b1b7-37e3ec699052",
   "metadata": {},
   "outputs": [],
   "source": [
    "import pandas as pd\n",
    "import joblib\n",
    "from sklearn.cluster import KMeans\n",
    "\n",
    "# Load dataset\n",
    "df = pd.read_csv(\"Mall_Customers.csv\")\n",
    "\n",
    "# Select features for clustering\n",
    "X = df[['Annual Income (k$)', 'Spending Score (1-100)']]\n",
    "\n",
    "# Train KMeans model\n",
    "kmeans = KMeans(n_clusters=5, random_state=42)\n",
    "kmeans.fit(X)\n",
    "\n",
    "# Save the trained model\n",
    "joblib.dump(kmeans, \"customer_segmentation_model.pkl\")\n",
    "\n",
    "print(\"Model saved successfully as customer_segmentation_model.pkl!\")\n"
   ]
  },
  {
   "cell_type": "code",
   "execution_count": null,
   "id": "80ea02af-90c6-4e1f-aecd-274a6917e917",
   "metadata": {},
   "outputs": [],
   "source": [
    "import os\n",
    "\n",
    "model_path = os.path.abspath(\"customer_segmentation_model.pkl\")\n",
    "model = joblib.load(model_path)\n"
   ]
  },
  {
   "cell_type": "code",
   "execution_count": null,
   "id": "a0d0314b-c98b-44ac-99aa-7ba84c5ecf8e",
   "metadata": {},
   "outputs": [],
   "source": [
    "#streamlit run app.py On Command Prompt"
   ]
  }
 ],
 "metadata": {
  "kernelspec": {
   "display_name": "Python 3 (ipykernel)",
   "language": "python",
   "name": "python3"
  },
  "language_info": {
   "codemirror_mode": {
    "name": "ipython",
    "version": 3
   },
   "file_extension": ".py",
   "mimetype": "text/x-python",
   "name": "python",
   "nbconvert_exporter": "python",
   "pygments_lexer": "ipython3",
   "version": "3.12.4"
  }
 },
 "nbformat": 4,
 "nbformat_minor": 5
}
